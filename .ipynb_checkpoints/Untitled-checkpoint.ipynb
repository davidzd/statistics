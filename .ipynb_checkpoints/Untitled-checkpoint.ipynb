{
 "cells": [
  {
   "cell_type": "code",
   "execution_count": 20,
   "metadata": {
    "collapsed": false
   },
   "outputs": [
    {
     "name": "stdout",
     "output_type": "stream",
     "text": [
      "[2, 3, 4, 5]\n"
     ]
    }
   ],
   "source": [
    "def combine(l1, l2):\n",
    "    count = 0\n",
    "    l3 = []\n",
    "    i = 0\n",
    "    j = 0\n",
    "    if !(l1 and l2):\n",
    "        return l2\n",
    "        \n",
    "    while count < len(l1) + len (l2):\n",
    "        if l1[i] < l2[j]:\n",
    "            if count !=0:\n",
    "                if l1[i] == l3[-1]:\n",
    "                    i += 1\n",
    "                    continue\n",
    "            l3.append(l1[i])\n",
    "            i+=1\n",
    "        else:\n",
    "            l3.append(l2[j])\n",
    "            if count !=0:\n",
    "                if l2[j] == l3[-3]:\n",
    "                    j += 1\n",
    "                    continue\n",
    "            j+=1\n",
    "        count += 1\n",
    "    return l3\n",
    "a = [1,2,3,4]\n",
    "b = [2,3,4,5]\n",
    "print combine(a,b)\n",
    "        "
   ]
  },
  {
   "cell_type": "code",
   "execution_count": null,
   "metadata": {
    "collapsed": true
   },
   "outputs": [],
   "source": []
  }
 ],
 "metadata": {
  "kernelspec": {
   "display_name": "Python 2",
   "language": "python",
   "name": "python2"
  },
  "language_info": {
   "codemirror_mode": {
    "name": "ipython",
    "version": 2
   },
   "file_extension": ".py",
   "mimetype": "text/x-python",
   "name": "python",
   "nbconvert_exporter": "python",
   "pygments_lexer": "ipython2",
   "version": "2.7.10"
  }
 },
 "nbformat": 4,
 "nbformat_minor": 1
}

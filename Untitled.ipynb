{
 "cells": [
  {
   "cell_type": "markdown",
   "metadata": {
    "collapsed": false
   },
   "source": [
    "def combine(l1, l2):\n",
    "    count = 0\n",
    "    l3 = []\n",
    "    i = 0\n",
    "    j = 0\n",
    "    if not (l1 and l2):\n",
    "        return l2\n",
    "        \n",
    "    while i < len(l1) and j < len (l2):\n",
    "        if l1[i] < l2[j]:\n",
    "            if count !=0:\n",
    "                if l1[i] == l3[-1]:\n",
    "                    i += 1\n",
    "                    continue\n",
    "            l3.append(l1[i])\n",
    "            i+=1\n",
    "        else:\n",
    "            l3.append(l2[j])\n",
    "            if count !=0:\n",
    "                if l2[j] == l3[-1]:\n",
    "                    j += 1\n",
    "                    continue\n",
    "            j+=1\n",
    "        count += 1\n",
    "    while i < len(l1):\n",
    "        if l1[i] == l3[-1]:\n",
    "            i += 1\n",
    "        continue\n",
    "        l3.append(l1[i])\n",
    "    while j < len(l2):\n",
    "        if l2[j] == l3[-1]:\n",
    "            j += 1\n",
    "        continue\n",
    "        l3.append(l2[j])\n",
    "    return l3\n",
    "a = [1,2,3,4]\n",
    "b = [2,3,4,5]\n",
    "\n",
    "print combine(a,b)\n",
    "        "
   ]
  },
  {
   "cell_type": "code",
   "execution_count": null,
   "metadata": {
    "collapsed": true
   },
   "outputs": [],
   "source": [
    "a = 3"
   ]
  },
  {
   "cell_type": "code",
   "execution_count": null,
   "metadata": {
    "collapsed": true
   },
   "outputs": [],
   "source": [
    "$e^{i\\pi} + 1 = 0$"
   ]
  },
  {
   "cell_type": "code",
   "execution_count": null,
   "metadata": {
    "collapsed": true
   },
   "outputs": [],
   "source": [
    "# 第1点\n",
    "\n",
    "<pre>\n",
    "```\n",
    "\n",
    "| This | is   |\n",
    "|------|------|\n",
    "|   a  | table|\n",
    "\n",
    "```\n",
    "</pre>\n",
    "\n",
    "# 第2点\n",
    "\n",
    "# 第3点"
   ]
  },
  {
   "cell_type": "markdown",
   "metadata": {},
   "source": []
  }
 ],
 "metadata": {
  "kernelspec": {
   "display_name": "Python 2",
   "language": "python",
   "name": "python2"
  },
  "language_info": {
   "codemirror_mode": {
    "name": "ipython",
    "version": 2
   },
   "file_extension": ".py",
   "mimetype": "text/x-python",
   "name": "python",
   "nbconvert_exporter": "python",
   "pygments_lexer": "ipython2",
   "version": "2.7.10"
  }
 },
 "nbformat": 4,
 "nbformat_minor": 1
}
